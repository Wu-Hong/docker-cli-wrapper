{
 "cells": [
  {
   "cell_type": "code",
   "execution_count": 3,
   "metadata": {},
   "outputs": [
    {
     "name": "stdout",
     "output_type": "stream",
     "text": [
      "\u001b[0;32m172.18.0.4 | SUCCESS | rc=0 >>\u001b[0m\n",
      "\u001b[0;32m1: lo: <LOOPBACK,UP,LOWER_UP> mtu 65536 qdisc noqueue state UNKNOWN group default qlen 1\u001b[0m\n",
      "\u001b[0;32m    link/loopback 00:00:00:00:00:00 brd 00:00:00:00:00:00\u001b[0m\n",
      "\u001b[0;32m    inet 127.0.0.1/8 scope host lo\u001b[0m\n",
      "\u001b[0;32m       valid_lft forever preferred_lft forever\u001b[0m\n",
      "\u001b[0;32m2: tunl0@NONE: <NOARP> mtu 1480 qdisc noop state DOWN group default qlen 1\u001b[0m\n",
      "\u001b[0;32m    link/ipip 0.0.0.0 brd 0.0.0.0\u001b[0m\n",
      "\u001b[0;32m3: ip6tnl0@NONE: <NOARP> mtu 1452 qdisc noop state DOWN group default qlen 1\u001b[0m\n",
      "\u001b[0;32m    link/tunnel6 :: brd ::\u001b[0m\n",
      "\u001b[0;32m105: eth0@if106: <BROADCAST,MULTICAST,UP,LOWER_UP> mtu 1500 qdisc noqueue state UP group default \u001b[0m\n",
      "\u001b[0;32m    link/ether 02:42:ac:12:00:04 brd ff:ff:ff:ff:ff:ff link-netnsid 0\u001b[0m\n",
      "\u001b[0;32m    inet 172.18.0.4/16 brd 172.18.255.255 scope global eth0\u001b[0m\n",
      "\u001b[0;32m       valid_lft forever preferred_lft forever\u001b[0m\n",
      "\u001b[0;32m\u001b[0m\n",
      "\u001b[0;32m127.0.0.1 | SUCCESS | rc=0 >>\u001b[0m\n",
      "\u001b[0;32m1: lo: <LOOPBACK,UP,LOWER_UP> mtu 65536 qdisc noqueue state UNKNOWN group default qlen 1\u001b[0m\n",
      "\u001b[0;32m    link/loopback 00:00:00:00:00:00 brd 00:00:00:00:00:00\u001b[0m\n",
      "\u001b[0;32m    inet 127.0.0.1/8 scope host lo\u001b[0m\n",
      "\u001b[0;32m       valid_lft forever preferred_lft forever\u001b[0m\n",
      "\u001b[0;32m2: tunl0@NONE: <NOARP> mtu 1480 qdisc noop state DOWN group default qlen 1\u001b[0m\n",
      "\u001b[0;32m    link/ipip 0.0.0.0 brd 0.0.0.0\u001b[0m\n",
      "\u001b[0;32m3: ip6tnl0@NONE: <NOARP> mtu 1452 qdisc noop state DOWN group default qlen 1\u001b[0m\n",
      "\u001b[0;32m    link/tunnel6 :: brd ::\u001b[0m\n",
      "\u001b[0;32m101: eth0@if102: <BROADCAST,MULTICAST,UP,LOWER_UP> mtu 1500 qdisc noqueue state UP group default \u001b[0m\n",
      "\u001b[0;32m    link/ether 02:42:ac:12:00:02 brd ff:ff:ff:ff:ff:ff link-netnsid 0\u001b[0m\n",
      "\u001b[0;32m    inet 172.18.0.2/16 brd 172.18.255.255 scope global eth0\u001b[0m\n",
      "\u001b[0;32m       valid_lft forever preferred_lft forever\u001b[0m\n",
      "\u001b[0;32m\u001b[0m\n",
      "\u001b[0;32m172.18.0.2 | SUCCESS | rc=0 >>\u001b[0m\n",
      "\u001b[0;32m1: lo: <LOOPBACK,UP,LOWER_UP> mtu 65536 qdisc noqueue state UNKNOWN group default qlen 1\u001b[0m\n",
      "\u001b[0;32m    link/loopback 00:00:00:00:00:00 brd 00:00:00:00:00:00\u001b[0m\n",
      "\u001b[0;32m    inet 127.0.0.1/8 scope host lo\u001b[0m\n",
      "\u001b[0;32m       valid_lft forever preferred_lft forever\u001b[0m\n",
      "\u001b[0;32m2: tunl0@NONE: <NOARP> mtu 1480 qdisc noop state DOWN group default qlen 1\u001b[0m\n",
      "\u001b[0;32m    link/ipip 0.0.0.0 brd 0.0.0.0\u001b[0m\n",
      "\u001b[0;32m3: ip6tnl0@NONE: <NOARP> mtu 1452 qdisc noop state DOWN group default qlen 1\u001b[0m\n",
      "\u001b[0;32m    link/tunnel6 :: brd ::\u001b[0m\n",
      "\u001b[0;32m101: eth0@if102: <BROADCAST,MULTICAST,UP,LOWER_UP> mtu 1500 qdisc noqueue state UP group default \u001b[0m\n",
      "\u001b[0;32m    link/ether 02:42:ac:12:00:02 brd ff:ff:ff:ff:ff:ff link-netnsid 0\u001b[0m\n",
      "\u001b[0;32m    inet 172.18.0.2/16 brd 172.18.255.255 scope global eth0\u001b[0m\n",
      "\u001b[0;32m       valid_lft forever preferred_lft forever\u001b[0m\n",
      "\u001b[0;32m\u001b[0m\n"
     ]
    }
   ],
   "source": [
    "!ansible all -m shell -a 'ip addr'"
   ]
  },
  {
   "cell_type": "code",
   "execution_count": 4,
   "metadata": {},
   "outputs": [],
   "source": [
    "a = 1"
   ]
  },
  {
   "cell_type": "code",
   "execution_count": 5,
   "metadata": {},
   "outputs": [],
   "source": [
    "b = 2"
   ]
  },
  {
   "cell_type": "code",
   "execution_count": 6,
   "metadata": {},
   "outputs": [],
   "source": [
    "c = a+b"
   ]
  },
  {
   "cell_type": "code",
   "execution_count": 7,
   "metadata": {},
   "outputs": [
    {
     "name": "stdout",
     "output_type": "stream",
     "text": [
      "3\n"
     ]
    }
   ],
   "source": [
    "print c"
   ]
  },
  {
   "cell_type": "code",
   "execution_count": 8,
   "metadata": {
    "scrolled": false
   },
   "outputs": [
    {
     "name": "stdout",
     "output_type": "stream",
     "text": [
      "\u001b[0;32m172.18.0.4 | SUCCESS | rc=0 >>\u001b[0m\r\n",
      "\u001b[0;32mhello, i am e74a72eaf66d\u001b[0m\r\n",
      "\u001b[0;32m\u001b[0m\r\n",
      "\u001b[0;32m127.0.0.1 | SUCCESS | rc=0 >>\u001b[0m\r\n",
      "\u001b[0;32mhello, i am 2e2ed748ea4e\u001b[0m\r\n",
      "\u001b[0;32m\u001b[0m\r\n",
      "\u001b[0;32m172.18.0.2 | SUCCESS | rc=0 >>\u001b[0m\r\n",
      "\u001b[0;32mhello, i am 2e2ed748ea4e\u001b[0m\r\n",
      "\u001b[0;32m\u001b[0m\r\n"
     ]
    }
   ],
   "source": [
    "!ansible all -m shell -a 'echo \"hello, i am `hostname`\"'"
   ]
  },
  {
   "cell_type": "code",
   "execution_count": 9,
   "metadata": {},
   "outputs": [
    {
     "name": "stdout",
     "output_type": "stream",
     "text": [
      "\u001b[0;32m172.18.0.4 | SUCCESS | rc=0 >>\u001b[0m\r\n",
      "\u001b[0;32mip addr\u001b[0m\r\n",
      "\u001b[0;32m\u001b[0m\r\n",
      "\u001b[0;32m172.18.0.2 | SUCCESS | rc=0 >>\u001b[0m\r\n",
      "\u001b[0;32mip addr\u001b[0m\r\n",
      "\u001b[0;32m\u001b[0m\r\n",
      "\u001b[0;32m127.0.0.1 | SUCCESS | rc=0 >>\u001b[0m\r\n",
      "\u001b[0;32mip addr\u001b[0m\r\n",
      "\u001b[0;32m\u001b[0m\r\n"
     ]
    }
   ],
   "source": [
    "!ansible all -m shell -a 'echo \"ip addr\"'"
   ]
  },
  {
   "cell_type": "code",
   "execution_count": 10,
   "metadata": {},
   "outputs": [
    {
     "name": "stdout",
     "output_type": "stream",
     "text": [
      "\u001b[0;32m172.18.0.4 | SUCCESS | rc=0 >>\u001b[0m\r\n",
      "\u001b[0;32m1: lo: <LOOPBACK,UP,LOWER_UP> mtu 65536 qdisc noqueue state UNKNOWN group default qlen 1\u001b[0m\r\n",
      "\u001b[0;32m    link/loopback 00:00:00:00:00:00 brd 00:00:00:00:00:00\u001b[0m\r\n",
      "\u001b[0;32m    inet 127.0.0.1/8 scope host lo\u001b[0m\r\n",
      "\u001b[0;32m       valid_lft forever preferred_lft forever\u001b[0m\r\n",
      "\u001b[0;32m2: tunl0@NONE: <NOARP> mtu 1480 qdisc noop state DOWN group default qlen 1\u001b[0m\r\n",
      "\u001b[0;32m    link/ipip 0.0.0.0 brd 0.0.0.0\u001b[0m\r\n",
      "\u001b[0;32m3: ip6tnl0@NONE: <NOARP> mtu 1452 qdisc noop state DOWN group default qlen 1\u001b[0m\r\n",
      "\u001b[0;32m    link/tunnel6 :: brd ::\u001b[0m\r\n",
      "\u001b[0;32m105: eth0@if106: <BROADCAST,MULTICAST,UP,LOWER_UP> mtu 1500 qdisc noqueue state UP group default \u001b[0m\r\n",
      "\u001b[0;32m    link/ether 02:42:ac:12:00:04 brd ff:ff:ff:ff:ff:ff link-netnsid 0\u001b[0m\r\n",
      "\u001b[0;32m    inet 172.18.0.4/16 brd 172.18.255.255 scope global eth0\u001b[0m\r\n",
      "\u001b[0;32m       valid_lft forever preferred_lft forever\u001b[0m\r\n",
      "\u001b[0;32m\u001b[0m\r\n",
      "\u001b[0;32m127.0.0.1 | SUCCESS | rc=0 >>\u001b[0m\r\n",
      "\u001b[0;32m1: lo: <LOOPBACK,UP,LOWER_UP> mtu 65536 qdisc noqueue state UNKNOWN group default qlen 1\u001b[0m\r\n",
      "\u001b[0;32m    link/loopback 00:00:00:00:00:00 brd 00:00:00:00:00:00\u001b[0m\r\n",
      "\u001b[0;32m    inet 127.0.0.1/8 scope host lo\u001b[0m\r\n",
      "\u001b[0;32m       valid_lft forever preferred_lft forever\u001b[0m\r\n",
      "\u001b[0;32m2: tunl0@NONE: <NOARP> mtu 1480 qdisc noop state DOWN group default qlen 1\u001b[0m\r\n",
      "\u001b[0;32m    link/ipip 0.0.0.0 brd 0.0.0.0\u001b[0m\r\n",
      "\u001b[0;32m3: ip6tnl0@NONE: <NOARP> mtu 1452 qdisc noop state DOWN group default qlen 1\u001b[0m\r\n",
      "\u001b[0;32m    link/tunnel6 :: brd ::\u001b[0m\r\n",
      "\u001b[0;32m101: eth0@if102: <BROADCAST,MULTICAST,UP,LOWER_UP> mtu 1500 qdisc noqueue state UP group default \u001b[0m\r\n",
      "\u001b[0;32m    link/ether 02:42:ac:12:00:02 brd ff:ff:ff:ff:ff:ff link-netnsid 0\u001b[0m\r\n",
      "\u001b[0;32m    inet 172.18.0.2/16 brd 172.18.255.255 scope global eth0\u001b[0m\r\n",
      "\u001b[0;32m       valid_lft forever preferred_lft forever\u001b[0m\r\n",
      "\u001b[0;32m\u001b[0m\r\n",
      "\u001b[0;32m172.18.0.2 | SUCCESS | rc=0 >>\u001b[0m\r\n",
      "\u001b[0;32m1: lo: <LOOPBACK,UP,LOWER_UP> mtu 65536 qdisc noqueue state UNKNOWN group default qlen 1\u001b[0m\r\n",
      "\u001b[0;32m    link/loopback 00:00:00:00:00:00 brd 00:00:00:00:00:00\u001b[0m\r\n",
      "\u001b[0;32m    inet 127.0.0.1/8 scope host lo\u001b[0m\r\n",
      "\u001b[0;32m       valid_lft forever preferred_lft forever\u001b[0m\r\n",
      "\u001b[0;32m2: tunl0@NONE: <NOARP> mtu 1480 qdisc noop state DOWN group default qlen 1\u001b[0m\r\n",
      "\u001b[0;32m    link/ipip 0.0.0.0 brd 0.0.0.0\u001b[0m\r\n",
      "\u001b[0;32m3: ip6tnl0@NONE: <NOARP> mtu 1452 qdisc noop state DOWN group default qlen 1\u001b[0m\r\n",
      "\u001b[0;32m    link/tunnel6 :: brd ::\u001b[0m\r\n",
      "\u001b[0;32m101: eth0@if102: <BROADCAST,MULTICAST,UP,LOWER_UP> mtu 1500 qdisc noqueue state UP group default \u001b[0m\r\n",
      "\u001b[0;32m    link/ether 02:42:ac:12:00:02 brd ff:ff:ff:ff:ff:ff link-netnsid 0\u001b[0m\r\n",
      "\u001b[0;32m    inet 172.18.0.2/16 brd 172.18.255.255 scope global eth0\u001b[0m\r\n",
      "\u001b[0;32m       valid_lft forever preferred_lft forever\u001b[0m\r\n",
      "\u001b[0;32m\u001b[0m\r\n"
     ]
    }
   ],
   "source": [
    "!ansible all -m shell -a 'ip addr'"
   ]
  },
  {
   "cell_type": "code",
   "execution_count": 1,
   "metadata": {},
   "outputs": [
    {
     "name": "stdout",
     "output_type": "stream",
     "text": [
      "\u001b[0;32m172.18.0.5 | SUCCESS | rc=0 >>\u001b[0m\n",
      "\u001b[0;32m1: lo: <LOOPBACK,UP,LOWER_UP> mtu 65536 qdisc noqueue state UNKNOWN group default qlen 1\u001b[0m\n",
      "\u001b[0;32m    link/loopback 00:00:00:00:00:00 brd 00:00:00:00:00:00\u001b[0m\n",
      "\u001b[0;32m    inet 127.0.0.1/8 scope host lo\u001b[0m\n",
      "\u001b[0;32m       valid_lft forever preferred_lft forever\u001b[0m\n",
      "\u001b[0;32m2: tunl0@NONE: <NOARP> mtu 1480 qdisc noop state DOWN group default qlen 1\u001b[0m\n",
      "\u001b[0;32m    link/ipip 0.0.0.0 brd 0.0.0.0\u001b[0m\n",
      "\u001b[0;32m3: ip6tnl0@NONE: <NOARP> mtu 1452 qdisc noop state DOWN group default qlen 1\u001b[0m\n",
      "\u001b[0;32m    link/tunnel6 :: brd ::\u001b[0m\n",
      "\u001b[0;32m114: eth0@if115: <BROADCAST,MULTICAST,UP,LOWER_UP> mtu 1500 qdisc noqueue state UP group default \u001b[0m\n",
      "\u001b[0;32m    link/ether 02:42:ac:12:00:05 brd ff:ff:ff:ff:ff:ff link-netnsid 0\u001b[0m\n",
      "\u001b[0;32m    inet 172.18.0.5/16 brd 172.18.255.255 scope global eth0\u001b[0m\n",
      "\u001b[0;32m       valid_lft forever preferred_lft forever\u001b[0m\n",
      "\u001b[0;32m\u001b[0m\n",
      "\u001b[0;32m172.18.0.2 | SUCCESS | rc=0 >>\u001b[0m\n",
      "\u001b[0;32m1: lo: <LOOPBACK,UP,LOWER_UP> mtu 65536 qdisc noqueue state UNKNOWN group default qlen 1\u001b[0m\n",
      "\u001b[0;32m    link/loopback 00:00:00:00:00:00 brd 00:00:00:00:00:00\u001b[0m\n",
      "\u001b[0;32m    inet 127.0.0.1/8 scope host lo\u001b[0m\n",
      "\u001b[0;32m       valid_lft forever preferred_lft forever\u001b[0m\n",
      "\u001b[0;32m2: tunl0@NONE: <NOARP> mtu 1480 qdisc noop state DOWN group default qlen 1\u001b[0m\n",
      "\u001b[0;32m    link/ipip 0.0.0.0 brd 0.0.0.0\u001b[0m\n",
      "\u001b[0;32m3: ip6tnl0@NONE: <NOARP> mtu 1452 qdisc noop state DOWN group default qlen 1\u001b[0m\n",
      "\u001b[0;32m    link/tunnel6 :: brd ::\u001b[0m\n",
      "\u001b[0;32m108: eth0@if109: <BROADCAST,MULTICAST,UP,LOWER_UP> mtu 1500 qdisc noqueue state UP group default \u001b[0m\n",
      "\u001b[0;32m    link/ether 02:42:ac:12:00:02 brd ff:ff:ff:ff:ff:ff link-netnsid 0\u001b[0m\n",
      "\u001b[0;32m    inet 172.18.0.2/16 brd 172.18.255.255 scope global eth0\u001b[0m\n",
      "\u001b[0;32m       valid_lft forever preferred_lft forever\u001b[0m\n",
      "\u001b[0;32m\u001b[0m\n",
      "\u001b[0;32m172.18.0.4 | SUCCESS | rc=0 >>\u001b[0m\n",
      "\u001b[0;32m1: lo: <LOOPBACK,UP,LOWER_UP> mtu 65536 qdisc noqueue state UNKNOWN group default qlen 1\u001b[0m\n",
      "\u001b[0;32m    link/loopback 00:00:00:00:00:00 brd 00:00:00:00:00:00\u001b[0m\n",
      "\u001b[0;32m    inet 127.0.0.1/8 scope host lo\u001b[0m\n",
      "\u001b[0;32m       valid_lft forever preferred_lft forever\u001b[0m\n",
      "\u001b[0;32m2: tunl0@NONE: <NOARP> mtu 1480 qdisc noop state DOWN group default qlen 1\u001b[0m\n",
      "\u001b[0;32m    link/ipip 0.0.0.0 brd 0.0.0.0\u001b[0m\n",
      "\u001b[0;32m3: ip6tnl0@NONE: <NOARP> mtu 1452 qdisc noop state DOWN group default qlen 1\u001b[0m\n",
      "\u001b[0;32m    link/tunnel6 :: brd ::\u001b[0m\n",
      "\u001b[0;32m112: eth0@if113: <BROADCAST,MULTICAST,UP,LOWER_UP> mtu 1500 qdisc noqueue state UP group default \u001b[0m\n",
      "\u001b[0;32m    link/ether 02:42:ac:12:00:04 brd ff:ff:ff:ff:ff:ff link-netnsid 0\u001b[0m\n",
      "\u001b[0;32m    inet 172.18.0.4/16 brd 172.18.255.255 scope global eth0\u001b[0m\n",
      "\u001b[0;32m       valid_lft forever preferred_lft forever\u001b[0m\n",
      "\u001b[0;32m\u001b[0m\n",
      "\u001b[0;32m127.0.0.1 | SUCCESS | rc=0 >>\u001b[0m\n",
      "\u001b[0;32m1: lo: <LOOPBACK,UP,LOWER_UP> mtu 65536 qdisc noqueue state UNKNOWN group default qlen 1\u001b[0m\n",
      "\u001b[0;32m    link/loopback 00:00:00:00:00:00 brd 00:00:00:00:00:00\u001b[0m\n",
      "\u001b[0;32m    inet 127.0.0.1/8 scope host lo\u001b[0m\n",
      "\u001b[0;32m       valid_lft forever preferred_lft forever\u001b[0m\n",
      "\u001b[0;32m2: tunl0@NONE: <NOARP> mtu 1480 qdisc noop state DOWN group default qlen 1\u001b[0m\n",
      "\u001b[0;32m    link/ipip 0.0.0.0 brd 0.0.0.0\u001b[0m\n",
      "\u001b[0;32m3: ip6tnl0@NONE: <NOARP> mtu 1452 qdisc noop state DOWN group default qlen 1\u001b[0m\n",
      "\u001b[0;32m    link/tunnel6 :: brd ::\u001b[0m\n",
      "\u001b[0;32m110: eth0@if111: <BROADCAST,MULTICAST,UP,LOWER_UP> mtu 1500 qdisc noqueue state UP group default \u001b[0m\n",
      "\u001b[0;32m    link/ether 02:42:ac:12:00:03 brd ff:ff:ff:ff:ff:ff link-netnsid 0\u001b[0m\n",
      "\u001b[0;32m    inet 172.18.0.3/16 brd 172.18.255.255 scope global eth0\u001b[0m\n",
      "\u001b[0;32m       valid_lft forever preferred_lft forever\u001b[0m\n",
      "\u001b[0;32m\u001b[0m\n"
     ]
    }
   ],
   "source": [
    "!ansible all -m shell -a 'ip addr'"
   ]
  },
  {
   "cell_type": "code",
   "execution_count": null,
   "metadata": {},
   "outputs": [],
   "source": []
  },
  {
   "cell_type": "code",
   "execution_count": null,
   "metadata": {},
   "outputs": [],
   "source": []
  }
 ],
 "metadata": {
  "kernelspec": {
   "display_name": "Python 2",
   "language": "python",
   "name": "python2"
  },
  "language_info": {
   "codemirror_mode": {
    "name": "ipython",
    "version": 2
   },
   "file_extension": ".py",
   "mimetype": "text/x-python",
   "name": "python",
   "nbconvert_exporter": "python",
   "pygments_lexer": "ipython2",
   "version": "2.7.5"
  }
 },
 "nbformat": 4,
 "nbformat_minor": 2
}
